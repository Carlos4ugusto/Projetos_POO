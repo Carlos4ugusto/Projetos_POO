{
 "cells": [
  {
   "cell_type": "code",
   "execution_count": 4,
   "metadata": {},
   "outputs": [
    {
     "ename": "ValueError",
     "evalue": "invalid literal for int() with base 10: ''",
     "output_type": "error",
     "traceback": [
      "\u001b[1;31m---------------------------------------------------------------------------\u001b[0m",
      "\u001b[1;31mValueError\u001b[0m                                Traceback (most recent call last)",
      "\u001b[1;32m~\\AppData\\Local\\Temp/ipykernel_5064/93906933.py\u001b[0m in \u001b[0;36m<module>\u001b[1;34m\u001b[0m\n\u001b[0;32m      4\u001b[0m     e razão entre cada dois elementos \"\"\"\n\u001b[0;32m      5\u001b[0m \u001b[1;31m# O limite deve ser maior ou igual a 2\u001b[0m\u001b[1;33m\u001b[0m\u001b[1;33m\u001b[0m\u001b[0m\n\u001b[1;32m----> 6\u001b[1;33m \u001b[0mLimite\u001b[0m\u001b[1;33m=\u001b[0m\u001b[0mint\u001b[0m\u001b[1;33m(\u001b[0m\u001b[0minput\u001b[0m\u001b[1;33m(\u001b[0m\u001b[1;34m'Entre com o limite (>= 2): '\u001b[0m\u001b[1;33m)\u001b[0m\u001b[1;33m)\u001b[0m\u001b[1;33m\u001b[0m\u001b[1;33m\u001b[0m\u001b[0m\n\u001b[0m\u001b[0;32m      7\u001b[0m \u001b[0mN\u001b[0m\u001b[1;33m=\u001b[0m\u001b[1;36m2\u001b[0m \u001b[1;31m# Número de ordem de cada elemento da sequência\u001b[0m\u001b[1;33m\u001b[0m\u001b[1;33m\u001b[0m\u001b[0m\n\u001b[0;32m      8\u001b[0m \u001b[0mFibA\u001b[0m \u001b[1;33m=\u001b[0m \u001b[1;36m1\u001b[0m\u001b[1;33m\u001b[0m\u001b[1;33m\u001b[0m\u001b[0m\n",
      "\u001b[1;31mValueError\u001b[0m: invalid literal for int() with base 10: ''"
     ]
    }
   ],
   "source": [
    "import math # Ativa o módulo de funções matemáticas\n",
    "\"\"\" Gera a sequência de Fibonacci até ultrapassar um limite\n",
    "    que deve ser menor do que 1000, para alinhar os resultados\n",
    "    e razão entre cada dois elementos \"\"\"\n",
    "# O limite deve ser maior ou igual a 2\n",
    "Limite=int(input('Entre com o limite (>= 2): '))\n",
    "N=2 # Número de ordem de cada elemento da sequência\n",
    "FibA = 1\n",
    "FibB = 1\n",
    "# Imprime os títulos da tabela\n",
    "print(' N      Fib(N)          Razão')\n",
    "# Imprime os dois primeiros\n",
    "print ('001     001')\n",
    "print ('002     001     1.0')\n",
    "while FibB < Limite:\n",
    "  Aux = FibA + FibB # Cada novo elemento será a soma dos dois anteriores\n",
    "  FibA=FibB # O segundo elemento torna-se o primeiro\n",
    "  FibB=Aux  # O segundo elemento recebe a soma dos dois anteriores\n",
    "  N=N+1     # Número de ordem do próximo elemento\n",
    "  # Concatena 00 à esquerda se Fib(N) for menor do que 10\n",
    "  #   e um 0 se for maior do que 9 e menor do que 100\n",
    "  print('00'+str(N) if N<10 else '0'+str(N) if N<100 else N,\n",
    "      '   ', '00'+str(FibB) if FibB<10 else\n",
    "      '0'+str(FibB) if FibB<100 else FibB,'   ', FibB/FibA)\n",
    "  print('Compare com a razão áurea:\\n','            ',(1+math.sqrt(5))/2)"
   ]
  }
 ],
 "metadata": {
  "interpreter": {
   "hash": "71be35f8d79f35bc1a881f710317339f5e9a4227b7ef3f2c82c2ce889b28139c"
  },
  "kernelspec": {
   "display_name": "Python 3.10.0 64-bit",
   "name": "python3"
  },
  "language_info": {
   "codemirror_mode": {
    "name": "ipython",
    "version": 3
   },
   "file_extension": ".py",
   "mimetype": "text/x-python",
   "name": "python",
   "nbconvert_exporter": "python",
   "pygments_lexer": "ipython3",
   "version": "3.10.0"
  },
  "orig_nbformat": 4
 },
 "nbformat": 4,
 "nbformat_minor": 2
}
